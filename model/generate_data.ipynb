{
 "cells": [
  {
   "cell_type": "code",
   "execution_count": 76,
   "metadata": {},
   "outputs": [],
   "source": [
    "import pandas as pd \n",
    "import numpy as np\n",
    "import random\n",
    "import requests\n",
    "import time\n",
    "import pickle as pkl\n",
    "\n",
    "import matplotlib.pyplot as plt\n",
    "%matplotlib inline\n",
    "\n",
    "import json"
   ]
  },
  {
   "cell_type": "code",
   "execution_count": 724,
   "metadata": {},
   "outputs": [],
   "source": [
    "N_SAMPLES = 1000\n",
    "N_POINTS = 40"
   ]
  },
  {
   "cell_type": "markdown",
   "metadata": {},
   "source": [
    "Человеческие данные:"
   ]
  },
  {
   "cell_type": "code",
   "execution_count": 678,
   "metadata": {},
   "outputs": [],
   "source": [
    "with open('points.pkl', 'rb') as f:\n",
    "    data = pkl.load(f)"
   ]
  },
  {
   "cell_type": "code",
   "execution_count": 679,
   "metadata": {
    "scrolled": true
   },
   "outputs": [
    {
     "name": "stdout",
     "output_type": "stream",
     "text": [
      "20 (8, 2)\n",
      "22 (10, 2)\n",
      "23 (3544, 2)\n",
      "25 (39, 2)\n",
      "37 (39, 2)\n",
      "39 (38, 2)\n",
      "40 (38, 2)\n",
      "41 (38, 2)\n",
      "42 (39, 2)\n",
      "44 (36, 2)\n",
      "52 (39, 2)\n",
      "162 (39, 2)\n",
      "170 (39, 2)\n",
      "205 (39, 2)\n",
      "238 (39, 2)\n",
      "251 (39, 2)\n",
      "352 (49, 2)\n",
      "360 (39, 2)\n",
      "495 (37, 2)\n",
      "689 (37, 2)\n",
      "729 (37, 2)\n",
      "833 (39, 2)\n",
      "1072 (80, 2)\n",
      "1107 (80, 2)\n",
      "1132 (10, 2)\n",
      "1167 (60, 2)\n",
      "1168 (119, 2)\n",
      "1169 (97, 2)\n",
      "1170 (107, 2)\n",
      "1175 (94, 2)\n",
      "1178 (171, 2)\n",
      "1179 (144, 2)\n",
      "1180 (99, 2)\n",
      "1181 (126, 2)\n",
      "1182 (99, 2)\n",
      "1210 (101, 2)\n",
      "1211 (96, 2)\n",
      "1212 (96, 2)\n",
      "1213 (95, 2)\n",
      "1214 (104, 2)\n",
      "1216 (98, 2)\n",
      "1219 (92, 2)\n",
      "1220 (89, 2)\n",
      "1221 (90, 2)\n",
      "1223 (1514, 2)\n",
      "1224 (101, 2)\n",
      "1225 (87, 2)\n",
      "1226 (149, 2)\n",
      "1227 (97, 2)\n",
      "1228 (114, 2)\n",
      "1229 (99, 2)\n",
      "1230 (100, 2)\n",
      "1240 (96, 2)\n",
      "1243 (54, 2)\n",
      "1244 (81, 2)\n",
      "1245 (95, 2)\n",
      "1324 (80, 2)\n"
     ]
    }
   ],
   "source": [
    "good_idxs = []\n",
    "for i in range(len(data)):\n",
    "    if np.array(data[i]).shape != (40, 2):\n",
    "        print(i, np.array(data[i]).shape)\n",
    "    else:\n",
    "        good_idxs.append(i)\n",
    "        \n",
    "    "
   ]
  },
  {
   "cell_type": "code",
   "execution_count": 680,
   "metadata": {},
   "outputs": [],
   "source": [
    "train_data = np.array([data[i] for i in range(len(data)) if i in good_idxs])"
   ]
  },
  {
   "cell_type": "code",
   "execution_count": 681,
   "metadata": {},
   "outputs": [
    {
     "data": {
      "text/plain": [
       "(1447, 40, 2)"
      ]
     },
     "execution_count": 681,
     "metadata": {},
     "output_type": "execute_result"
    }
   ],
   "source": [
    "train_data.shape"
   ]
  },
  {
   "cell_type": "markdown",
   "metadata": {},
   "source": [
    "Сгенерим данные"
   ]
  },
  {
   "cell_type": "markdown",
   "metadata": {},
   "source": [
    "Пока просто рандом"
   ]
  },
  {
   "cell_type": "code",
   "execution_count": 725,
   "metadata": {},
   "outputs": [],
   "source": [
    "def generate_from_distribution(distrib, n_samples=1, **kwargs):\n",
    "    data = []\n",
    "    \n",
    "    for i in range(n_samples):\n",
    "        x, y = distrib(size=2, **kwargs)\n",
    "        data.append([x, y])\n",
    "\n",
    "    return data"
   ]
  },
  {
   "cell_type": "code",
   "execution_count": 726,
   "metadata": {
    "scrolled": true
   },
   "outputs": [
    {
     "data": {
      "text/plain": [
       "(50, 40, 2)"
      ]
     },
     "execution_count": 726,
     "metadata": {},
     "output_type": "execute_result"
    }
   ],
   "source": [
    "rand_unif = []\n",
    "for i in range(N_SAMPLES // 20):\n",
    "    single_rand = np.array(generate_from_distribution(np.random.uniform, n_samples=N_POINTS))\n",
    "    rand_unif.append(single_rand)\n",
    "rand_unif = np.array(rand_unif)\n",
    "rand_unif.shape"
   ]
  },
  {
   "cell_type": "code",
   "execution_count": 727,
   "metadata": {},
   "outputs": [
    {
     "data": {
      "text/plain": [
       "(50, 40, 2)"
      ]
     },
     "execution_count": 727,
     "metadata": {},
     "output_type": "execute_result"
    }
   ],
   "source": [
    "rand_unif_1 = []\n",
    "for i in range(N_SAMPLES // 20):\n",
    "    borders = generate_from_distribution(np.random.uniform, n_samples=2)\n",
    "    a, b = borders[0]\n",
    "    c, d = borders[1]\n",
    "    if a > b:\n",
    "        a, b = b, a\n",
    "    if c > d:\n",
    "        c, d = d, c\n",
    "\n",
    "    xs = np.array(generate_from_distribution(np.random.uniform, n_samples=N_POINTS, low=a, high=b))[:, 0]\n",
    "    ys = np.array(generate_from_distribution(np.random.uniform, n_samples=N_POINTS, low=c, high=d))[:, 0]\n",
    "    single_rand = np.array(list(zip(xs, ys)))\n",
    "    rand_unif_1.append(single_rand)\n",
    "rand_unif_1 = np.array(rand_unif_1)\n",
    "np.array(rand_unif_1).shape"
   ]
  },
  {
   "cell_type": "code",
   "execution_count": 728,
   "metadata": {
    "scrolled": true
   },
   "outputs": [],
   "source": [
    "def draw_path(data, x=None, y=None):\n",
    "    if data is not None:\n",
    "        plt.plot(data[:, 0], data[:, 1])\n",
    "    else:\n",
    "        plt.plot(x, y)\n",
    "    plt.xlim(0, 1)\n",
    "    plt.ylim(0, 1)"
   ]
  },
  {
   "cell_type": "code",
   "execution_count": 729,
   "metadata": {},
   "outputs": [
    {
     "data": {
      "image/png": "[encoded data removed]",
      "text/plain": [
       "<Figure size 432x288 with 1 Axes>"
      ]
     },
     "metadata": {
      "needs_background": "light"
     },
     "output_type": "display_data"
    }
   ],
   "source": [
    "n = 16\n",
    "draw_path(rand_unif_1[n])"
   ]
  },
  {
   "cell_type": "markdown",
   "metadata": {},
   "source": [
    "fixed point"
   ]
  },
  {
   "cell_type": "code",
   "execution_count": 730,
   "metadata": {},
   "outputs": [
    {
     "data": {
      "text/plain": [
       "(40, 40, 2)"
      ]
     },
     "execution_count": 730,
     "metadata": {},
     "output_type": "execute_result"
    }
   ],
   "source": [
    "fix_point = []\n",
    "for i in range(40):\n",
    "    fix_point.append(generate_from_distribution(np.random.uniform, n_samples=1) * 40)\n",
    "fix_point = np.array(fix_point)\n",
    "fix_point.shape"
   ]
  },
  {
   "cell_type": "markdown",
   "metadata": {},
   "source": [
    "Random walk"
   ]
  },
  {
   "cell_type": "code",
   "execution_count": 731,
   "metadata": {},
   "outputs": [],
   "source": [
    "def generate_random_walk(scale=0.1):\n",
    "    random_walk = []\n",
    "    \n",
    "    x, y = np.array(generate_from_distribution(np.random.uniform, n_samples=1))[0]\n",
    "    random_walk.append([x, y])\n",
    "    \n",
    "    for i in range(39):\n",
    "        while True:\n",
    "            x_incr = np.random.normal(scale=scale)\n",
    "            if 0 <= x + x_incr <= 1:\n",
    "                x += x_incr\n",
    "                break\n",
    "    \n",
    "        while True:\n",
    "            y_incr = np.random.normal(scale=scale)\n",
    "            if 0 <= y + y_incr <= 1:\n",
    "                y += y_incr\n",
    "                break\n",
    "        \n",
    "        random_walk.append([x, y])\n",
    "\n",
    "    return random_walk"
   ]
  },
  {
   "cell_type": "code",
   "execution_count": 732,
   "metadata": {
    "scrolled": true
   },
   "outputs": [
    {
     "data": {
      "text/plain": [
       "(100, 40, 2)"
      ]
     },
     "execution_count": 732,
     "metadata": {},
     "output_type": "execute_result"
    }
   ],
   "source": [
    "random_walks = []\n",
    "for scale in [0.03, 0.07, 0.1, 0.14, 0.19]:\n",
    "    for i in range(N_SAMPLES // 50):\n",
    "        rw = np.array(generate_random_walk(scale=scale))\n",
    "        random_walks.append(rw)\n",
    "random_walks = np.array(random_walks)\n",
    "random_walks.shape"
   ]
  },
  {
   "cell_type": "code",
   "execution_count": 733,
   "metadata": {
    "scrolled": false
   },
   "outputs": [
    {
     "data": {
      "image/png": "[encoded data removed]",
      "text/plain": [
       "<Figure size 432x288 with 1 Axes>"
      ]
     },
     "metadata": {
      "needs_background": "light"
     },
     "output_type": "display_data"
    }
   ],
   "source": [
    "draw_path(random_walks[88])"
   ]
  },
  {
   "cell_type": "markdown",
   "metadata": {},
   "source": [
    "Pure functions"
   ]
  },
  {
   "cell_type": "code",
   "execution_count": 734,
   "metadata": {},
   "outputs": [],
   "source": [
    "def generate_function(func, *args):\n",
    "    while True:\n",
    "        low, high = np.random.uniform(0, 1, 2)\n",
    "        if low > high:\n",
    "            low, high = high, low\n",
    "        if high - low >= 0.05:\n",
    "            break\n",
    "    \n",
    "    x = np.linspace(low, high, 40)\n",
    "    y = func(x, *args)\n",
    "    \n",
    "    return(list(zip(x, y)))"
   ]
  },
  {
   "cell_type": "code",
   "execution_count": 735,
   "metadata": {},
   "outputs": [
    {
     "data": {
      "text/plain": [
       "(50, 40, 2)"
      ]
     },
     "execution_count": 735,
     "metadata": {},
     "output_type": "execute_result"
    }
   ],
   "source": [
    "powers = []\n",
    "for power in [0.3, 0.5, 1, 2, 3]:\n",
    "    for i in range(N_SAMPLES // 100):\n",
    "        pw = np.array(generate_function(np.power, power))\n",
    "        while True:\n",
    "            y_shift = np.random.normal(scale=0.2)\n",
    "            if pw[:, 1].max() + y_shift <= 1 and pw[:, 1].min() + y_shift >= 0:\n",
    "                pw[:, 1] += y_shift\n",
    "                break\n",
    "\n",
    "        powers.append(pw)\n",
    "powers = np.array(powers)\n",
    "powers.shape"
   ]
  },
  {
   "cell_type": "code",
   "execution_count": 736,
   "metadata": {},
   "outputs": [
    {
     "data": {
      "image/png": "[encoded data removed]",
      "text/plain": [
       "<Figure size 432x288 with 1 Axes>"
      ]
     },
     "metadata": {
      "needs_background": "light"
     },
     "output_type": "display_data"
    }
   ],
   "source": [
    "n = 10\n",
    "draw_path(powers[n])"
   ]
  },
  {
   "cell_type": "code",
   "execution_count": 737,
   "metadata": {},
   "outputs": [
    {
     "data": {
      "text/plain": [
       "(50, 40, 2)"
      ]
     },
     "execution_count": 737,
     "metadata": {},
     "output_type": "execute_result"
    }
   ],
   "source": [
    "powers_w_noise = []\n",
    "for power in [0.3, 0.5, 1, 2, 3]:\n",
    "    for i in range(N_SAMPLES // 100):\n",
    "        pw = np.array(generate_function(np.power, power))\n",
    "        while True:\n",
    "            y_shift = np.random.normal(scale=0.2)\n",
    "            if pw[:, 1].max() + y_shift <= 1 and pw[:, 1].min() + y_shift >= 0:\n",
    "                pw[:, 1] += y_shift\n",
    "                break\n",
    "        while True:\n",
    "            y_noise = np.random.normal(scale=0.003, size=40)\n",
    "            if (pw[:, 1] + y_noise).max() <= 1 and (pw[:, 1] + y_noise).min() >= 0:\n",
    "                pw[:, 1] += y_noise\n",
    "                break\n",
    "\n",
    "\n",
    "        powers_w_noise.append(pw)\n",
    "\n",
    "powers_w_noise = np.array(powers_w_noise)\n",
    "powers_w_noise.shape"
   ]
  },
  {
   "cell_type": "code",
   "execution_count": 738,
   "metadata": {},
   "outputs": [
    {
     "data": {
      "image/png": "[encoded data removed]",
      "text/plain": [
       "<Figure size 1080x576 with 1 Axes>"
      ]
     },
     "metadata": {
      "needs_background": "light"
     },
     "output_type": "display_data"
    }
   ],
   "source": [
    "n=2\n",
    "\n",
    "plt.figure(figsize=(15, 8))\n",
    "draw_path(powers_w_noise[n])"
   ]
  },
  {
   "cell_type": "code",
   "execution_count": 739,
   "metadata": {},
   "outputs": [],
   "source": [
    "def generate_function_2(func, *args):\n",
    "    low = np.random.uniform(-2, 0, 1)\n",
    "    high = np.random.uniform(0, 2, 1)\n",
    "    \n",
    "    x = np.linspace(low, high, 40).reshape(40,)\n",
    "    y = func(x, *args)\n",
    "    \n",
    "    x += abs(low) + abs(np.random.normal(scale=0.4))\n",
    "    x /= x.max() + abs(np.random.normal(scale=0.4))\n",
    "    \n",
    "    y += abs(y.min()) + abs(np.random.normal(scale=0.4))\n",
    "    y /= y.max() + abs(np.random.normal(scale=0.4))\n",
    "    return(list(zip(x, y)))"
   ]
  },
  {
   "cell_type": "code",
   "execution_count": 740,
   "metadata": {},
   "outputs": [
    {
     "data": {
      "text/plain": [
       "(50, 40, 2)"
      ]
     },
     "execution_count": 740,
     "metadata": {},
     "output_type": "execute_result"
    }
   ],
   "source": [
    "powers_2 = []\n",
    "for power in [2, 3]:\n",
    "    for i in range(N_SAMPLES // 40):\n",
    "        pw = np.array(generate_function_2(np.power, power))\n",
    "        while True:\n",
    "            y_shift = np.random.normal(scale=0.2)\n",
    "            if pw[:, 1].max() + y_shift <= 1 and pw[:, 1].min() + y_shift >= 0:\n",
    "                pw[:, 1] += y_shift\n",
    "                break\n",
    "\n",
    "        powers_2.append(pw)\n",
    "powers_2 = np.array(powers_2)\n",
    "powers_2.shape"
   ]
  },
  {
   "cell_type": "code",
   "execution_count": 741,
   "metadata": {},
   "outputs": [
    {
     "data": {
      "image/png": "[encoded data removed]",
      "text/plain": [
       "<Figure size 432x288 with 1 Axes>"
      ]
     },
     "metadata": {
      "needs_background": "light"
     },
     "output_type": "display_data"
    }
   ],
   "source": [
    "draw_path(powers_2[25])"
   ]
  },
  {
   "cell_type": "code",
   "execution_count": 742,
   "metadata": {},
   "outputs": [],
   "source": [
    "def generate_function_3(func, *args):\n",
    "    low = np.random.uniform(-9, -3, 1)\n",
    "    high = np.random.uniform(3, 9, 1)\n",
    "    \n",
    "    x = np.linspace(low, high, 40).reshape(40,)\n",
    "    y = func(x, *args)\n",
    "    \n",
    "    x += abs(low) + abs(np.random.normal(scale=0.4))\n",
    "    x /= x.max() + abs(np.random.normal(scale=0.4))\n",
    "    \n",
    "    y += abs(y.min()) + abs(np.random.normal(scale=0.4))\n",
    "    y /= y.max() + abs(np.random.normal(scale=0.4))\n",
    "    return(list(zip(x, y)))"
   ]
  },
  {
   "cell_type": "code",
   "execution_count": 743,
   "metadata": {},
   "outputs": [
    {
     "data": {
      "text/plain": [
       "(56, 40, 2)"
      ]
     },
     "execution_count": 743,
     "metadata": {},
     "output_type": "execute_result"
    }
   ],
   "source": [
    "diff_funcs = []\n",
    "for func in [np.sin, np.cos, np.tan, np.exp]:\n",
    "    for i in range(N_SAMPLES // 70):\n",
    "        pw = np.array(generate_function_3(func))\n",
    "        while True:\n",
    "            y_shift = np.random.normal(scale=0.2)\n",
    "            if pw[:, 1].max() + y_shift <= 1 and pw[:, 1].min() + y_shift >= 0:\n",
    "                pw[:, 1] += y_shift\n",
    "                break\n",
    "\n",
    "        diff_funcs.append(pw)\n",
    "diff_funcs = np.array(diff_funcs)\n",
    "diff_funcs.shape"
   ]
  },
  {
   "cell_type": "code",
   "execution_count": 744,
   "metadata": {},
   "outputs": [
    {
     "data": {
      "image/png": "[encoded data removed]",
      "text/plain": [
       "<Figure size 432x288 with 1 Axes>"
      ]
     },
     "metadata": {
      "needs_background": "light"
     },
     "output_type": "display_data"
    }
   ],
   "source": [
    "draw_path(diff_funcs[6])"
   ]
  },
  {
   "cell_type": "markdown",
   "metadata": {},
   "source": [
    "## Спиральки!!!"
   ]
  },
  {
   "cell_type": "code",
   "execution_count": 745,
   "metadata": {},
   "outputs": [],
   "source": [
    "def generate_spiral(*args):\n",
    "    low = np.random.uniform(0, 0.2, 1)\n",
    "    high = np.random.uniform(0.2, 1, 1)\n",
    "    r = np.linspace(low, high, 40).reshape(40,)\n",
    "\n",
    "    s_low = np.random.uniform(-20, 0, 1)\n",
    "    s_high = np.random.uniform(0, 20, 1)\n",
    "    angle = np.linspace(s_low, s_high, 40).reshape(40,)\n",
    "\n",
    "    start_0, start_1 = np.array(generate_from_distribution(np.random.uniform, n_samples=1))[0]\n",
    "    \n",
    "    x = start_0 + np.sin(angle) * r\n",
    "    y = start_1 + np.cos(angle) * r\n",
    "    \n",
    "    x += -1 * min(x.min(), 0) + abs(np.random.normal(scale=0.3))\n",
    "    x /= max(1, x.max()) + abs(np.random.normal(scale=0.3))\n",
    "    \n",
    "    y += -1 * min(y.min(), 0) + abs(np.random.normal(scale=0.3))\n",
    "    y /= max(1, y.max()) + abs(np.random.normal(scale=0.3))\n",
    "    \n",
    "    return list(zip(x, y))"
   ]
  },
  {
   "cell_type": "code",
   "execution_count": 746,
   "metadata": {},
   "outputs": [
    {
     "data": {
      "text/plain": [
       "(100, 40, 2)"
      ]
     },
     "execution_count": 746,
     "metadata": {},
     "output_type": "execute_result"
    }
   ],
   "source": [
    "spirals = []\n",
    "for i in range(N_SAMPLES // 10):\n",
    "    pw = np.array(generate_spiral(func))\n",
    "    \n",
    "    spirals.append(pw)\n",
    "spirals = np.array(spirals)\n",
    "spirals.shape"
   ]
  },
  {
   "cell_type": "code",
   "execution_count": 747,
   "metadata": {},
   "outputs": [
    {
     "data": {
      "image/png": "[encoded data removed]",
      "text/plain": [
       "<Figure size 432x288 with 1 Axes>"
      ]
     },
     "metadata": {
      "needs_background": "light"
     },
     "output_type": "display_data"
    }
   ],
   "source": [
    "draw_path(spirals[37])"
   ]
  },
  {
   "cell_type": "markdown",
   "metadata": {},
   "source": [
    "Ломаные"
   ]
  },
  {
   "cell_type": "code",
   "execution_count": 748,
   "metadata": {},
   "outputs": [],
   "source": [
    "def generate_broken(*args):\n",
    "    n = np.random.choice(range(2, 10))\n",
    "    \n",
    "    broken_line = []\n",
    "    \n",
    "    rand_points   = np.array(generate_from_distribution(np.random.uniform, n_samples=n))\n",
    "\n",
    "    points = 40 - n\n",
    "    \n",
    "    iters = [points // (n - 1) + int(i < points % (n - 1)) for i in range(n - 1)]\n",
    "    assert np.array(iters).sum() == points\n",
    "    \n",
    "    for i in range(n - 1):\n",
    "        broken_line.append(rand_points[i])\n",
    "        for j in range(iters[i]):\n",
    "            p = (j + 1) / (iters[i] + 1) + np.random.normal(scale=0.5 / iters[i])\n",
    "            broken_line.append(p * rand_points[i] + (1 - p) * rand_points[i + 1])\n",
    "    broken_line.append(rand_points[n-1])\n",
    "    \n",
    "    return broken_line"
   ]
  },
  {
   "cell_type": "code",
   "execution_count": 749,
   "metadata": {},
   "outputs": [
    {
     "data": {
      "text/plain": [
       "(100, 40, 2)"
      ]
     },
     "execution_count": 749,
     "metadata": {},
     "output_type": "execute_result"
    }
   ],
   "source": [
    "broken_lines = []\n",
    "for i in range(N_SAMPLES // 10):\n",
    "    broken_lines.append(np.array(generate_broken()))\n",
    "broken_lines = np.array(broken_lines)\n",
    "broken_lines.shape"
   ]
  },
  {
   "cell_type": "code",
   "execution_count": 750,
   "metadata": {
    "scrolled": true
   },
   "outputs": [
    {
     "data": {
      "image/png": "[encoded data removed]",
      "text/plain": [
       "<Figure size 432x288 with 1 Axes>"
      ]
     },
     "metadata": {
      "needs_background": "light"
     },
     "output_type": "display_data"
    }
   ],
   "source": [
    "n = 1\n",
    "draw_path(broken_lines[n])"
   ]
  },
  {
   "cell_type": "code",
   "execution_count": null,
   "metadata": {},
   "outputs": [],
   "source": []
  },
  {
   "cell_type": "code",
   "execution_count": null,
   "metadata": {},
   "outputs": [],
   "source": []
  },
  {
   "cell_type": "markdown",
   "metadata": {},
   "source": [
    "Collect data!!!!!!"
   ]
  },
  {
   "cell_type": "code",
   "execution_count": 751,
   "metadata": {},
   "outputs": [
    {
     "data": {
      "text/plain": [
       "(646, 40, 2)"
      ]
     },
     "execution_count": 751,
     "metadata": {},
     "output_type": "execute_result"
    }
   ],
   "source": [
    "whole_data = []\n",
    "for lst in [\n",
    "    broken_lines,\n",
    "    spirals,\n",
    "    diff_funcs,\n",
    "    powers_2,\n",
    "    powers_w_noise,\n",
    "    powers,\n",
    "    fix_point,\n",
    "    random_walks,\n",
    "    rand_unif_1,\n",
    "    rand_unif\n",
    "]:\n",
    "    whole_data.extend(lst)\n",
    "\n",
    "whole_data = np.array(whole_data)\n",
    "whole_data.shape"
   ]
  },
  {
   "cell_type": "code",
   "execution_count": 752,
   "metadata": {},
   "outputs": [],
   "source": [
    "with open('generated_data_test.pkl', 'wb') as f:\n",
    "    pkl.dump(whole_data, f, protocol=4)"
   ]
  },
  {
   "cell_type": "code",
   "execution_count": null,
   "metadata": {},
   "outputs": [],
   "source": []
  },
  {
   "cell_type": "code",
   "execution_count": null,
   "metadata": {},
   "outputs": [],
   "source": []
  },
  {
   "cell_type": "code",
   "execution_count": null,
   "metadata": {},
   "outputs": [],
   "source": []
  }
 ],
 "metadata": {
  "kernelspec": {
   "display_name": "Python 3",
   "language": "python",
   "name": "python3"
  },
  "language_info": {
   "codemirror_mode": {
    "name": "ipython",
    "version": 3
   },
   "file_extension": ".py",
   "mimetype": "text/x-python",
   "name": "python",
   "nbconvert_exporter": "python",
   "pygments_lexer": "ipython3",
   "version": "3.7.6"
  }
 },
 "nbformat": 4,
 "nbformat_minor": 4
}
